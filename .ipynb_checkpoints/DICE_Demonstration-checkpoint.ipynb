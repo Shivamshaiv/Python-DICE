{
 "cells": [
  {
   "cell_type": "code",
   "execution_count": 18,
   "metadata": {},
   "outputs": [],
   "source": [
    "from economy_model import Economy\n",
    "import matplotlib.pyplot as plt\n",
    "from visualization import plot_temp_change\n",
    "from visualization import plot_attr\n",
    "%matplotlib inline"
   ]
  },
  {
   "cell_type": "code",
   "execution_count": 19,
   "metadata": {},
   "outputs": [],
   "source": [
    "model = Economy()"
   ]
  },
  {
   "cell_type": "code",
   "execution_count": 20,
   "metadata": {},
   "outputs": [],
   "source": [
    "model.loop(30)"
   ]
  },
  {
   "cell_type": "code",
   "execution_count": 21,
   "metadata": {},
   "outputs": [
    {
     "name": "stdout",
     "output_type": "stream",
     "text": [
      "7.797836925729671\n"
     ]
    },
    {
     "data": {
      "image/png": "[encoded data removed]",
      "text/plain": [
       "<matplotlib.figure.Figure at 0x2006fd140f0>"
      ]
     },
     "metadata": {},
     "output_type": "display_data"
    }
   ],
   "source": [
    "plt.plot(model.F)\n",
    "print(max(model.F))\n",
    "plt.show()\n",
    "# 4.398668426917811"
   ]
  },
  {
   "cell_type": "code",
   "execution_count": 14,
   "metadata": {},
   "outputs": [
    {
     "name": "stdout",
     "output_type": "stream",
     "text": [
      "8.862372705776451 1.1 9.96237270577645\n",
      "9.630397834385313 1.1 10.730397834385313\n",
      "10.55529857332261 0.8800000000000001 11.43529857332261\n",
      "10.174203417044314 0.7040000000000002 10.878203417044315\n",
      "9.296403976509122 0.5632000000000001 9.859603976509122\n",
      "8.341959115013783 0.4505600000000001 8.792519115013782\n",
      "7.445738417788876 0.3604480000000001 7.806186417788876\n",
      "6.639302227589956 0.2883584000000001 6.9276606275899555\n",
      "5.927509942845202 0.2306867200000001 6.158196662845202\n",
      "5.307157099051791 0.1845493760000001 5.4917064750517905\n"
     ]
    }
   ],
   "source": [
    "for t in range(10):\n",
    "    print(model.E_ind[t],model.E_land[t],model.E[t])"
   ]
  },
  {
   "cell_type": "code",
   "execution_count": 22,
   "metadata": {},
   "outputs": [
    {
     "data": {
      "application/vnd.plotly.v1+json": {
       "config": {
        "plotlyServerURL": "https://plot.ly"
       },
       "data": [
        {
         "type": "scatter",
         "x": [
          "2005-01-01T00:00:00",
          "2015-01-01T00:00:00",
          "2025-01-01T00:00:00",
          "2035-01-01T00:00:00",
          "2045-01-01T00:00:00",
          "2055-01-01T00:00:00",
          "2065-01-01T00:00:00",
          "2075-01-01T00:00:00",
          "2085-01-01T00:00:00",
          "2095-01-01T00:00:00",
          "2105-01-01T00:00:00",
          "2115-01-01T00:00:00",
          "2125-01-01T00:00:00",
          "2135-01-01T00:00:00",
          "2145-01-01T00:00:00",
          "2155-01-01T00:00:00",
          "2165-01-01T00:00:00",
          "2175-01-01T00:00:00",
          "2185-01-01T00:00:00",
          "2195-01-01T00:00:00",
          "2205-01-01T00:00:00",
          "2215-01-01T00:00:00",
          "2225-01-01T00:00:00",
          "2235-01-01T00:00:00",
          "2245-01-01T00:00:00",
          "2255-01-01T00:00:00",
          "2265-01-01T00:00:00",
          "2275-01-01T00:00:00",
          "2285-01-01T00:00:00",
          "2295-01-01T00:00:00",
          "2305-01-01T00:00:00"
         ],
         "y": [
          0.83,
          1.0737814496673024,
          1.385798126407168,
          1.7332515772714476,
          2.091762178206647,
          2.445677857065827,
          2.786022914766554,
          3.1083471962750315,
          3.4110523464261786,
          3.6942249134974676,
          3.958870799921749,
          4.206435193413611,
          4.193654327739586,
          4.235980620833956,
          4.311327754212867,
          4.405512781228224,
          4.509500747738629,
          4.617600634891027,
          4.726285728726821,
          4.833423540529769,
          4.937774106965878,
          5.038663974585777,
          5.1357750420740915,
          5.229008375591192,
          5.318396867452731,
          5.4040496377805125,
          5.486117002320864,
          5.56476871277463,
          5.640180719303171,
          5.712527368894995,
          5.781977040607804
         ]
        }
       ],
       "layout": {
        "template": {},
        "title": {
         "text": "Average Temperature Rise"
        },
        "xaxis": {
         "range": [
          "2001-01-01T00:00:00",
          "2305-01-01T00:00:00"
         ],
         "title": {
          "text": "Time in Years"
         }
        },
        "yaxis": {
         "title": {
          "text": "Rise in Average Temperature since 1900"
         }
        }
       }
      },
      "text/html": [
       "<div>\n",
       "        \n",
       "        \n",
       "            <div id=\"33a8cbf2-d1f6-4104-bc4a-292f997b69ee\" class=\"plotly-graph-div\" style=\"height:525px; width:100%;\"></div>\n",
       "            <script type=\"text/javascript\">\n",
       "                require([\"plotly\"], function(Plotly) {\n",
       "                    window.PLOTLYENV=window.PLOTLYENV || {};\n",
       "                    \n",
       "                if (document.getElementById(\"33a8cbf2-d1f6-4104-bc4a-292f997b69ee\")) {\n",
       "                    Plotly.newPlot(\n",
       "                        '33a8cbf2-d1f6-4104-bc4a-292f997b69ee',\n",
       "                        [{\"type\": \"scatter\", \"x\": [\"2005-01-01T00:00:00\", \"2015-01-01T00:00:00\", \"2025-01-01T00:00:00\", \"2035-01-01T00:00:00\", \"2045-01-01T00:00:00\", \"2055-01-01T00:00:00\", \"2065-01-01T00:00:00\", \"2075-01-01T00:00:00\", \"2085-01-01T00:00:00\", \"2095-01-01T00:00:00\", \"2105-01-01T00:00:00\", \"2115-01-01T00:00:00\", \"2125-01-01T00:00:00\", \"2135-01-01T00:00:00\", \"2145-01-01T00:00:00\", \"2155-01-01T00:00:00\", \"2165-01-01T00:00:00\", \"2175-01-01T00:00:00\", \"2185-01-01T00:00:00\", \"2195-01-01T00:00:00\", \"2205-01-01T00:00:00\", \"2215-01-01T00:00:00\", \"2225-01-01T00:00:00\", \"2235-01-01T00:00:00\", \"2245-01-01T00:00:00\", \"2255-01-01T00:00:00\", \"2265-01-01T00:00:00\", \"2275-01-01T00:00:00\", \"2285-01-01T00:00:00\", \"2295-01-01T00:00:00\", \"2305-01-01T00:00:00\"], \"y\": [0.83, 1.0737814496673024, 1.385798126407168, 1.7332515772714476, 2.091762178206647, 2.445677857065827, 2.786022914766554, 3.1083471962750315, 3.4110523464261786, 3.6942249134974676, 3.958870799921749, 4.206435193413611, 4.193654327739586, 4.235980620833956, 4.311327754212867, 4.405512781228224, 4.509500747738629, 4.617600634891027, 4.726285728726821, 4.833423540529769, 4.937774106965878, 5.038663974585777, 5.1357750420740915, 5.229008375591192, 5.318396867452731, 5.4040496377805125, 5.486117002320864, 5.56476871277463, 5.640180719303171, 5.712527368894995, 5.781977040607804]}],\n",
       "                        {\"template\": {}, \"title\": {\"text\": \"Average Temperature Rise\"}, \"xaxis\": {\"range\": [\"2001-01-01T00:00:00\", \"2305-01-01T00:00:00\"], \"title\": {\"text\": \"Time in Years\"}}, \"yaxis\": {\"title\": {\"text\": \"Rise in Average Temperature since 1900\"}}},\n",
       "                        {\"responsive\": true}\n",
       "                    ).then(function(){\n",
       "                            \n",
       "var gd = document.getElementById('33a8cbf2-d1f6-4104-bc4a-292f997b69ee');\n",
       "var x = new MutationObserver(function (mutations, observer) {{\n",
       "        var display = window.getComputedStyle(gd).display;\n",
       "        if (!display || display === 'none') {{\n",
       "            console.log([gd, 'removed!']);\n",
       "            Plotly.purge(gd);\n",
       "            observer.disconnect();\n",
       "        }}\n",
       "}});\n",
       "\n",
       "// Listen for the removal of the full notebook cells\n",
       "var notebookContainer = gd.closest('#notebook-container');\n",
       "if (notebookContainer) {{\n",
       "    x.observe(notebookContainer, {childList: true});\n",
       "}}\n",
       "\n",
       "// Listen for the clearing of the current output cell\n",
       "var outputEl = gd.closest('.output');\n",
       "if (outputEl) {{\n",
       "    x.observe(outputEl, {childList: true});\n",
       "}}\n",
       "\n",
       "                        })\n",
       "                };\n",
       "                });\n",
       "            </script>\n",
       "        </div>"
      ]
     },
     "metadata": {},
     "output_type": "display_data"
    }
   ],
   "source": [
    "import plotly.graph_objects as go\n",
    "import datetime\n",
    "\n",
    "def make_datetime(arr,start_year = 2005):\n",
    "    x = []\n",
    "    for i in range(len(arr)):\n",
    "        x.append(datetime.datetime(year=start_year+(10*i),month=1,day=1))\n",
    "    return x\n",
    "\n",
    "\n",
    "\n",
    "fig = go.Figure(\n",
    "    data=go.Scatter(x=make_datetime(model.T_at), y=model.T_at),\n",
    "    layout=go.Layout(\n",
    "        title=\"Average Temperature Rise\",\n",
    "    ))\n",
    "\n",
    "fig.update_xaxes(title_text='Time in Years')\n",
    "fig.update_yaxes(title_text='Rise in Average Temperature since 1900')\n",
    "\n",
    "fig.update_layout(template=\"none\")\n",
    "#fig = go.Figure(data=[go.Scatter(x=make_datetime(model.T_at), y=model.T_at)])\n",
    "# Use datetime objects to set xaxis range\n",
    "fig.update_layout(xaxis_range=[datetime.datetime(2001, 1, 1),make_datetime(model.T_at)[-1]])\n",
    "fig.show()"
   ]
  },
  {
   "cell_type": "code",
   "execution_count": 23,
   "metadata": {},
   "outputs": [
    {
     "data": {
      "application/vnd.plotly.v1+json": {
       "config": {
        "plotlyServerURL": "https://plot.ly"
       },
       "data": [
        {
         "type": "scatter",
         "x": [
          "2005-01-01T00:00:00",
          "2015-01-01T00:00:00",
          "2025-01-01T00:00:00",
          "2035-01-01T00:00:00",
          "2045-01-01T00:00:00",
          "2055-01-01T00:00:00",
          "2065-01-01T00:00:00",
          "2075-01-01T00:00:00",
          "2085-01-01T00:00:00",
          "2095-01-01T00:00:00",
          "2105-01-01T00:00:00",
          "2115-01-01T00:00:00",
          "2125-01-01T00:00:00",
          "2135-01-01T00:00:00",
          "2145-01-01T00:00:00",
          "2155-01-01T00:00:00",
          "2165-01-01T00:00:00",
          "2175-01-01T00:00:00",
          "2185-01-01T00:00:00",
          "2195-01-01T00:00:00",
          "2205-01-01T00:00:00"
         ],
         "y": [
          0.83,
          1.0737814496673024,
          1.385798126407168,
          1.7332515772714476,
          2.091762178206647,
          2.445677857065827,
          2.786022914766554,
          3.1083471962750315,
          3.4110523464261786,
          3.6942249134974676,
          3.958870799921749,
          4.206435193413611,
          4.193654327739586,
          4.235980620833956,
          4.311327754212867,
          4.405512781228224,
          4.509500747738629,
          4.617600634891027,
          4.726285728726821,
          4.833423540529769,
          4.937774106965878
         ]
        }
       ],
       "layout": {
        "template": {},
        "title": {
         "text": "Average Temperature Rise"
        },
        "xaxis": {
         "range": [
          "2001-01-01T00:00:00",
          "2205-01-01T00:00:00"
         ],
         "title": {
          "text": "Time in Years"
         }
        },
        "yaxis": {
         "title": {
          "text": "Rise in Average Temperature since 1900"
         }
        }
       }
      },
      "text/html": [
       "<div>\n",
       "        \n",
       "        \n",
       "            <div id=\"31c7cb2f-d016-49a9-804f-0651ab846848\" class=\"plotly-graph-div\" style=\"height:525px; width:100%;\"></div>\n",
       "            <script type=\"text/javascript\">\n",
       "                require([\"plotly\"], function(Plotly) {\n",
       "                    window.PLOTLYENV=window.PLOTLYENV || {};\n",
       "                    \n",
       "                if (document.getElementById(\"31c7cb2f-d016-49a9-804f-0651ab846848\")) {\n",
       "                    Plotly.newPlot(\n",
       "                        '31c7cb2f-d016-49a9-804f-0651ab846848',\n",
       "                        [{\"type\": \"scatter\", \"x\": [\"2005-01-01T00:00:00\", \"2015-01-01T00:00:00\", \"2025-01-01T00:00:00\", \"2035-01-01T00:00:00\", \"2045-01-01T00:00:00\", \"2055-01-01T00:00:00\", \"2065-01-01T00:00:00\", \"2075-01-01T00:00:00\", \"2085-01-01T00:00:00\", \"2095-01-01T00:00:00\", \"2105-01-01T00:00:00\", \"2115-01-01T00:00:00\", \"2125-01-01T00:00:00\", \"2135-01-01T00:00:00\", \"2145-01-01T00:00:00\", \"2155-01-01T00:00:00\", \"2165-01-01T00:00:00\", \"2175-01-01T00:00:00\", \"2185-01-01T00:00:00\", \"2195-01-01T00:00:00\", \"2205-01-01T00:00:00\"], \"y\": [0.83, 1.0737814496673024, 1.385798126407168, 1.7332515772714476, 2.091762178206647, 2.445677857065827, 2.786022914766554, 3.1083471962750315, 3.4110523464261786, 3.6942249134974676, 3.958870799921749, 4.206435193413611, 4.193654327739586, 4.235980620833956, 4.311327754212867, 4.405512781228224, 4.509500747738629, 4.617600634891027, 4.726285728726821, 4.833423540529769, 4.937774106965878]}],\n",
       "                        {\"template\": {}, \"title\": {\"text\": \"Average Temperature Rise\"}, \"xaxis\": {\"range\": [\"2001-01-01T00:00:00\", \"2205-01-01T00:00:00\"], \"title\": {\"text\": \"Time in Years\"}}, \"yaxis\": {\"title\": {\"text\": \"Rise in Average Temperature since 1900\"}}},\n",
       "                        {\"responsive\": true}\n",
       "                    ).then(function(){\n",
       "                            \n",
       "var gd = document.getElementById('31c7cb2f-d016-49a9-804f-0651ab846848');\n",
       "var x = new MutationObserver(function (mutations, observer) {{\n",
       "        var display = window.getComputedStyle(gd).display;\n",
       "        if (!display || display === 'none') {{\n",
       "            console.log([gd, 'removed!']);\n",
       "            Plotly.purge(gd);\n",
       "            observer.disconnect();\n",
       "        }}\n",
       "}});\n",
       "\n",
       "// Listen for the removal of the full notebook cells\n",
       "var notebookContainer = gd.closest('#notebook-container');\n",
       "if (notebookContainer) {{\n",
       "    x.observe(notebookContainer, {childList: true});\n",
       "}}\n",
       "\n",
       "// Listen for the clearing of the current output cell\n",
       "var outputEl = gd.closest('.output');\n",
       "if (outputEl) {{\n",
       "    x.observe(outputEl, {childList: true});\n",
       "}}\n",
       "\n",
       "                        })\n",
       "                };\n",
       "                });\n",
       "            </script>\n",
       "        </div>"
      ]
     },
     "metadata": {},
     "output_type": "display_data"
    }
   ],
   "source": [
    "plot_temp_change(20)"
   ]
  },
  {
   "cell_type": "code",
   "execution_count": 24,
   "metadata": {},
   "outputs": [
    {
     "data": {
      "application/vnd.plotly.v1+json": {
       "config": {
        "plotlyServerURL": "https://plot.ly"
       },
       "data": [
        {
         "type": "scatter",
         "x": [
          "2005-01-01T00:00:00",
          "2015-01-01T00:00:00",
          "2025-01-01T00:00:00",
          "2035-01-01T00:00:00",
          "2045-01-01T00:00:00",
          "2055-01-01T00:00:00",
          "2065-01-01T00:00:00",
          "2075-01-01T00:00:00",
          "2085-01-01T00:00:00",
          "2095-01-01T00:00:00",
          "2105-01-01T00:00:00",
          "2115-01-01T00:00:00",
          "2125-01-01T00:00:00",
          "2135-01-01T00:00:00",
          "2145-01-01T00:00:00",
          "2155-01-01T00:00:00",
          "2165-01-01T00:00:00",
          "2175-01-01T00:00:00",
          "2185-01-01T00:00:00",
          "2195-01-01T00:00:00",
          "2205-01-01T00:00:00",
          "2215-01-01T00:00:00",
          "2225-01-01T00:00:00",
          "2235-01-01T00:00:00",
          "2245-01-01T00:00:00",
          "2255-01-01T00:00:00",
          "2265-01-01T00:00:00",
          "2275-01-01T00:00:00",
          "2285-01-01T00:00:00",
          "2295-01-01T00:00:00",
          "2305-01-01T00:00:00"
         ],
         "y": [
          9.96237270577645,
          10.730397834385313,
          11.43529857332261,
          10.878203417044315,
          9.859603976509122,
          8.792519115013782,
          7.806186417788876,
          6.9276606275899555,
          6.158196662845202,
          5.4917064750517905,
          4.919543030759573,
          4.432326198570978,
          4.020797433467207,
          3.6771689282098614,
          3.393020472641061,
          3.1610512452669277,
          2.9750068872411255,
          2.8296148006448463,
          2.7205193034115434,
          2.6442151664642077,
          2.5979811583676304,
          2.57981628553067,
          2.5883814060458366,
          2.6229484034502915,
          2.6833584909438724,
          2.76999066840349,
          2.8837409511468475,
          3.02601273986388,
          3.198718582580127,
          3.4042935612548764,
          3.6457205917784457
         ]
        }
       ],
       "layout": {
        "template": {},
        "title": {
         "text": "Evolution of the factor in the model"
        },
        "xaxis": {
         "range": [
          "2001-01-01T00:00:00",
          "2305-01-01T00:00:00"
         ],
         "title": {
          "text": "Time in Years"
         }
        },
        "yaxis": {
         "title": {
          "text": "Model Parameter"
         }
        }
       }
      },
      "text/html": [
       "<div>\n",
       "        \n",
       "        \n",
       "            <div id=\"7378f8d5-e580-4106-bf44-c2dc051c6244\" class=\"plotly-graph-div\" style=\"height:525px; width:100%;\"></div>\n",
       "            <script type=\"text/javascript\">\n",
       "                require([\"plotly\"], function(Plotly) {\n",
       "                    window.PLOTLYENV=window.PLOTLYENV || {};\n",
       "                    \n",
       "                if (document.getElementById(\"7378f8d5-e580-4106-bf44-c2dc051c6244\")) {\n",
       "                    Plotly.newPlot(\n",
       "                        '7378f8d5-e580-4106-bf44-c2dc051c6244',\n",
       "                        [{\"type\": \"scatter\", \"x\": [\"2005-01-01T00:00:00\", \"2015-01-01T00:00:00\", \"2025-01-01T00:00:00\", \"2035-01-01T00:00:00\", \"2045-01-01T00:00:00\", \"2055-01-01T00:00:00\", \"2065-01-01T00:00:00\", \"2075-01-01T00:00:00\", \"2085-01-01T00:00:00\", \"2095-01-01T00:00:00\", \"2105-01-01T00:00:00\", \"2115-01-01T00:00:00\", \"2125-01-01T00:00:00\", \"2135-01-01T00:00:00\", \"2145-01-01T00:00:00\", \"2155-01-01T00:00:00\", \"2165-01-01T00:00:00\", \"2175-01-01T00:00:00\", \"2185-01-01T00:00:00\", \"2195-01-01T00:00:00\", \"2205-01-01T00:00:00\", \"2215-01-01T00:00:00\", \"2225-01-01T00:00:00\", \"2235-01-01T00:00:00\", \"2245-01-01T00:00:00\", \"2255-01-01T00:00:00\", \"2265-01-01T00:00:00\", \"2275-01-01T00:00:00\", \"2285-01-01T00:00:00\", \"2295-01-01T00:00:00\", \"2305-01-01T00:00:00\"], \"y\": [9.96237270577645, 10.730397834385313, 11.43529857332261, 10.878203417044315, 9.859603976509122, 8.792519115013782, 7.806186417788876, 6.9276606275899555, 6.158196662845202, 5.4917064750517905, 4.919543030759573, 4.432326198570978, 4.020797433467207, 3.6771689282098614, 3.393020472641061, 3.1610512452669277, 2.9750068872411255, 2.8296148006448463, 2.7205193034115434, 2.6442151664642077, 2.5979811583676304, 2.57981628553067, 2.5883814060458366, 2.6229484034502915, 2.6833584909438724, 2.76999066840349, 2.8837409511468475, 3.02601273986388, 3.198718582580127, 3.4042935612548764, 3.6457205917784457]}],\n",
       "                        {\"template\": {}, \"title\": {\"text\": \"Evolution of the factor in the model\"}, \"xaxis\": {\"range\": [\"2001-01-01T00:00:00\", \"2305-01-01T00:00:00\"], \"title\": {\"text\": \"Time in Years\"}}, \"yaxis\": {\"title\": {\"text\": \"Model Parameter\"}}},\n",
       "                        {\"responsive\": true}\n",
       "                    ).then(function(){\n",
       "                            \n",
       "var gd = document.getElementById('7378f8d5-e580-4106-bf44-c2dc051c6244');\n",
       "var x = new MutationObserver(function (mutations, observer) {{\n",
       "        var display = window.getComputedStyle(gd).display;\n",
       "        if (!display || display === 'none') {{\n",
       "            console.log([gd, 'removed!']);\n",
       "            Plotly.purge(gd);\n",
       "            observer.disconnect();\n",
       "        }}\n",
       "}});\n",
       "\n",
       "// Listen for the removal of the full notebook cells\n",
       "var notebookContainer = gd.closest('#notebook-container');\n",
       "if (notebookContainer) {{\n",
       "    x.observe(notebookContainer, {childList: true});\n",
       "}}\n",
       "\n",
       "// Listen for the clearing of the current output cell\n",
       "var outputEl = gd.closest('.output');\n",
       "if (outputEl) {{\n",
       "    x.observe(outputEl, {childList: true});\n",
       "}}\n",
       "\n",
       "                        })\n",
       "                };\n",
       "                });\n",
       "            </script>\n",
       "        </div>"
      ]
     },
     "metadata": {},
     "output_type": "display_data"
    }
   ],
   "source": [
    "plot_attr(model.E)"
   ]
  },
  {
   "cell_type": "code",
   "execution_count": null,
   "metadata": {},
   "outputs": [],
   "source": []
  }
 ],
 "metadata": {
  "kernelspec": {
   "display_name": "Python 3",
   "language": "python",
   "name": "python3"
  },
  "language_info": {
   "codemirror_mode": {
    "name": "ipython",
    "version": 3
   },
   "file_extension": ".py",
   "mimetype": "text/x-python",
   "name": "python",
   "nbconvert_exporter": "python",
   "pygments_lexer": "ipython3",
   "version": "3.6.3"
  }
 },
 "nbformat": 4,
 "nbformat_minor": 2
}
