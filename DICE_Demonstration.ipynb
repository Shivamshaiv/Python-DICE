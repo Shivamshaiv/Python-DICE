{
 "cells": [
  {
   "cell_type": "code",
   "execution_count": 1,
   "metadata": {},
   "outputs": [],
   "source": [
    "from economy_model import Economy\n",
    "import matplotlib.pyplot as plt\n",
    "%matplotlib inline"
   ]
  },
  {
   "cell_type": "code",
   "execution_count": 31,
   "metadata": {},
   "outputs": [],
   "source": [
    "model = Economy()"
   ]
  },
  {
   "cell_type": "code",
   "execution_count": 32,
   "metadata": {},
   "outputs": [],
   "source": [
    "model.loop(100)"
   ]
  },
  {
   "cell_type": "code",
   "execution_count": 33,
   "metadata": {},
   "outputs": [
    {
     "name": "stdout",
     "output_type": "stream",
     "text": [
      "23.28587291531915\n"
     ]
    },
    {
     "data": {
      "image/png": "[encoded data removed]",
      "text/plain": [
       "<matplotlib.figure.Figure at 0x2f2062a8780>"
      ]
     },
     "metadata": {},
     "output_type": "display_data"
    }
   ],
   "source": [
    "plt.plot(model.F)\n",
    "print(max(model.F))\n",
    "plt.show()\n",
    "# 4.398668426917811"
   ]
  },
  {
   "cell_type": "code",
   "execution_count": 34,
   "metadata": {},
   "outputs": [
    {
     "name": "stdout",
     "output_type": "stream",
     "text": [
      "8.862372705776451 1.1 9.96237270577645\n",
      "9.852170467585442 1.1 10.952170467585441\n",
      "10.503448118869994 0.8800000000000001 11.383448118869994\n",
      "10.01678319356601 0.7040000000000002 10.72078319356601\n",
      "9.183236827004206 0.5632000000000001 9.746436827004207\n",
      "8.280250320270088 0.4505600000000001 8.730810320270088\n",
      "7.412942304558478 0.3604480000000001 7.773390304558478\n",
      "6.620813600945196 0.2883584000000001 6.909172000945196\n",
      "5.9161987903871 0.2306867200000001 6.146885510387101\n",
      "5.299649359860841 0.1845493760000001 5.484198735860842\n"
     ]
    }
   ],
   "source": [
    "for t in range(10):\n",
    "    print(model.E_ind[t],model.E_land[t],model.E[t])"
   ]
  },
  {
   "cell_type": "code",
   "execution_count": 35,
   "metadata": {},
   "outputs": [
    {
     "data": {
      "application/vnd.plotly.v1+json": {
       "config": {
        "plotlyServerURL": "https://plot.ly"
       },
       "data": [
        {
         "type": "scatter",
         "x": [
          "2005-01-01T00:00:00",
          "2015-01-01T00:00:00",
          "2025-01-01T00:00:00",
          "2035-01-01T00:00:00",
          "2045-01-01T00:00:00",
          "2055-01-01T00:00:00",
          "2065-01-01T00:00:00",
          "2075-01-01T00:00:00",
          "2085-01-01T00:00:00",
          "2095-01-01T00:00:00",
          "2105-01-01T00:00:00",
          "2115-01-01T00:00:00",
          "2125-01-01T00:00:00",
          "2135-01-01T00:00:00",
          "2145-01-01T00:00:00",
          "2155-01-01T00:00:00",
          "2165-01-01T00:00:00",
          "2175-01-01T00:00:00",
          "2185-01-01T00:00:00",
          "2195-01-01T00:00:00",
          "2205-01-01T00:00:00",
          "2215-01-01T00:00:00",
          "2225-01-01T00:00:00",
          "2235-01-01T00:00:00",
          "2245-01-01T00:00:00",
          "2255-01-01T00:00:00",
          "2265-01-01T00:00:00",
          "2275-01-01T00:00:00",
          "2285-01-01T00:00:00",
          "2295-01-01T00:00:00",
          "2305-01-01T00:00:00",
          "2315-01-01T00:00:00",
          "2325-01-01T00:00:00",
          "2335-01-01T00:00:00",
          "2345-01-01T00:00:00",
          "2355-01-01T00:00:00",
          "2365-01-01T00:00:00",
          "2375-01-01T00:00:00",
          "2385-01-01T00:00:00",
          "2395-01-01T00:00:00",
          "2405-01-01T00:00:00",
          "2415-01-01T00:00:00",
          "2425-01-01T00:00:00",
          "2435-01-01T00:00:00",
          "2445-01-01T00:00:00",
          "2455-01-01T00:00:00",
          "2465-01-01T00:00:00",
          "2475-01-01T00:00:00",
          "2485-01-01T00:00:00",
          "2495-01-01T00:00:00",
          "2505-01-01T00:00:00",
          "2515-01-01T00:00:00",
          "2525-01-01T00:00:00",
          "2535-01-01T00:00:00",
          "2545-01-01T00:00:00",
          "2555-01-01T00:00:00",
          "2565-01-01T00:00:00",
          "2575-01-01T00:00:00",
          "2585-01-01T00:00:00",
          "2595-01-01T00:00:00",
          "2605-01-01T00:00:00",
          "2615-01-01T00:00:00",
          "2625-01-01T00:00:00",
          "2635-01-01T00:00:00",
          "2645-01-01T00:00:00",
          "2655-01-01T00:00:00",
          "2665-01-01T00:00:00",
          "2675-01-01T00:00:00",
          "2685-01-01T00:00:00",
          "2695-01-01T00:00:00",
          "2705-01-01T00:00:00",
          "2715-01-01T00:00:00",
          "2725-01-01T00:00:00",
          "2735-01-01T00:00:00",
          "2745-01-01T00:00:00",
          "2755-01-01T00:00:00",
          "2765-01-01T00:00:00",
          "2775-01-01T00:00:00",
          "2785-01-01T00:00:00",
          "2795-01-01T00:00:00",
          "2805-01-01T00:00:00",
          "2815-01-01T00:00:00",
          "2825-01-01T00:00:00",
          "2835-01-01T00:00:00",
          "2845-01-01T00:00:00",
          "2855-01-01T00:00:00",
          "2865-01-01T00:00:00",
          "2875-01-01T00:00:00",
          "2885-01-01T00:00:00",
          "2895-01-01T00:00:00",
          "2905-01-01T00:00:00",
          "2915-01-01T00:00:00",
          "2925-01-01T00:00:00",
          "2935-01-01T00:00:00",
          "2945-01-01T00:00:00",
          "2955-01-01T00:00:00",
          "2965-01-01T00:00:00",
          "2975-01-01T00:00:00",
          "2985-01-01T00:00:00",
          "2995-01-01T00:00:00",
          "3005-01-01T00:00:00"
         ],
         "y": [
          0.83,
          1.073945495705728,
          1.3859863599779374,
          1.733352883428437,
          2.091766432427599,
          2.445614240242828,
          2.785921972818338,
          3.1082307008807053,
          3.4109334861524427,
          3.6941107526776618,
          3.9587645652168075,
          4.2063379028206835,
          4.438425829293143,
          4.6566109047829825,
          4.862376496065064,
          5.057067385129669,
          5.241878011932377,
          5.417856013839078,
          5.585913510963755,
          5.746841651328937,
          5.901325855545023,
          6.049960386878398,
          6.193261585999205,
          6.331679525508065,
          6.465608070867523,
          6.595393454014606,
          6.721341519379076,
          6.843723817686112,
          6.962782718157918,
          7.0787356949489535,
          7.1917789249032715,
          7.302090314380851,
          7.409832054716126,
          7.515152789645775,
          7.618189464031289,
          7.719068911368264,
          7.817909227737926,
          7.9148209717775035,
          8.00990822367469,
          8.103269530891833,
          8.19499876408745,
          8.285185903345475,
          8.373917772194224,
          8.461278734871684,
          8.547351370768347,
          8.632217138868873,
          8.715957044250302,
          8.798652318219284,
          8.880385123433756,
          8.961239295310179,
          9.04130113112125,
          9.120660238393663,
          9.199410454467506,
          9.277650849313316,
          9.355486823839176,
          9.43303131585571,
          9.510406125470748,
          9.587743370791216,
          9.665187083208183,
          9.742894948972806,
          9.82104019992135,
          9.899813650704882,
          9.97942587229872,
          10.060109481445807,
          10.142121512556605,
          10.225745822021588,
          10.311295454594703,
          10.399114877428941,
          10.489581959848694,
          10.583109546995722,
          10.680146444887285,
          10.781177606027459,
          10.886723282572754,
          10.997336903441687,
          11.113601438915019,
          11.236124047801065,
          11.365528864052337,
          11.502447875558612,
          11.64750997751624,
          11.801328440469,
          11.964487206298847,
          12.137526594981136,
          12.320929146888645,
          12.515106414757529,
          12.720387534856762,
          12.937010336198833,
          13.165115590563568,
          13.404744779806247,
          13.655841487881862,
          13.918256248067681,
          14.191754426375295,
          14.476026529321405,
          14.77070020625812,
          15.075353178516854,
          15.389526362828411,
          15.712736549151703,
          16.044488122912167,
          16.3842834680196,
          16.731631831946185,
          17.086056564230294,
          17.447100746814737
         ]
        }
       ],
       "layout": {
        "template": {},
        "title": {
         "text": "Average Temperature Rise"
        },
        "xaxis": {
         "range": [
          "2001-01-01T00:00:00",
          "3005-01-01T00:00:00"
         ],
         "title": {
          "text": "Time in Years"
         }
        },
        "yaxis": {
         "title": {
          "text": "Rise in Average Temperature since 1900"
         }
        }
       }
      },
      "text/html": [
       "<div>\n",
       "        \n",
       "        \n",
       "            <div id=\"97cf9626-e2cf-41d3-a5da-3d913e901486\" class=\"plotly-graph-div\" style=\"height:525px; width:100%;\"></div>\n",
       "            <script type=\"text/javascript\">\n",
       "                require([\"plotly\"], function(Plotly) {\n",
       "                    window.PLOTLYENV=window.PLOTLYENV || {};\n",
       "                    \n",
       "                if (document.getElementById(\"97cf9626-e2cf-41d3-a5da-3d913e901486\")) {\n",
       "                    Plotly.newPlot(\n",
       "                        '97cf9626-e2cf-41d3-a5da-3d913e901486',\n",
       "                        [{\"type\": \"scatter\", \"x\": [\"2005-01-01T00:00:00\", \"2015-01-01T00:00:00\", \"2025-01-01T00:00:00\", \"2035-01-01T00:00:00\", \"2045-01-01T00:00:00\", \"2055-01-01T00:00:00\", \"2065-01-01T00:00:00\", \"2075-01-01T00:00:00\", \"2085-01-01T00:00:00\", \"2095-01-01T00:00:00\", \"2105-01-01T00:00:00\", \"2115-01-01T00:00:00\", \"2125-01-01T00:00:00\", \"2135-01-01T00:00:00\", \"2145-01-01T00:00:00\", \"2155-01-01T00:00:00\", \"2165-01-01T00:00:00\", \"2175-01-01T00:00:00\", \"2185-01-01T00:00:00\", \"2195-01-01T00:00:00\", \"2205-01-01T00:00:00\", \"2215-01-01T00:00:00\", \"2225-01-01T00:00:00\", \"2235-01-01T00:00:00\", \"2245-01-01T00:00:00\", \"2255-01-01T00:00:00\", \"2265-01-01T00:00:00\", \"2275-01-01T00:00:00\", \"2285-01-01T00:00:00\", \"2295-01-01T00:00:00\", \"2305-01-01T00:00:00\", \"2315-01-01T00:00:00\", \"2325-01-01T00:00:00\", \"2335-01-01T00:00:00\", \"2345-01-01T00:00:00\", \"2355-01-01T00:00:00\", \"2365-01-01T00:00:00\", \"2375-01-01T00:00:00\", \"2385-01-01T00:00:00\", \"2395-01-01T00:00:00\", \"2405-01-01T00:00:00\", \"2415-01-01T00:00:00\", \"2425-01-01T00:00:00\", \"2435-01-01T00:00:00\", \"2445-01-01T00:00:00\", \"2455-01-01T00:00:00\", \"2465-01-01T00:00:00\", \"2475-01-01T00:00:00\", \"2485-01-01T00:00:00\", \"2495-01-01T00:00:00\", \"2505-01-01T00:00:00\", \"2515-01-01T00:00:00\", \"2525-01-01T00:00:00\", \"2535-01-01T00:00:00\", \"2545-01-01T00:00:00\", \"2555-01-01T00:00:00\", \"2565-01-01T00:00:00\", \"2575-01-01T00:00:00\", \"2585-01-01T00:00:00\", \"2595-01-01T00:00:00\", \"2605-01-01T00:00:00\", \"2615-01-01T00:00:00\", \"2625-01-01T00:00:00\", \"2635-01-01T00:00:00\", \"2645-01-01T00:00:00\", \"2655-01-01T00:00:00\", \"2665-01-01T00:00:00\", \"2675-01-01T00:00:00\", \"2685-01-01T00:00:00\", \"2695-01-01T00:00:00\", \"2705-01-01T00:00:00\", \"2715-01-01T00:00:00\", \"2725-01-01T00:00:00\", \"2735-01-01T00:00:00\", \"2745-01-01T00:00:00\", \"2755-01-01T00:00:00\", \"2765-01-01T00:00:00\", \"2775-01-01T00:00:00\", \"2785-01-01T00:00:00\", \"2795-01-01T00:00:00\", \"2805-01-01T00:00:00\", \"2815-01-01T00:00:00\", \"2825-01-01T00:00:00\", \"2835-01-01T00:00:00\", \"2845-01-01T00:00:00\", \"2855-01-01T00:00:00\", \"2865-01-01T00:00:00\", \"2875-01-01T00:00:00\", \"2885-01-01T00:00:00\", \"2895-01-01T00:00:00\", \"2905-01-01T00:00:00\", \"2915-01-01T00:00:00\", \"2925-01-01T00:00:00\", \"2935-01-01T00:00:00\", \"2945-01-01T00:00:00\", \"2955-01-01T00:00:00\", \"2965-01-01T00:00:00\", \"2975-01-01T00:00:00\", \"2985-01-01T00:00:00\", \"2995-01-01T00:00:00\", \"3005-01-01T00:00:00\"], \"y\": [0.83, 1.073945495705728, 1.3859863599779374, 1.733352883428437, 2.091766432427599, 2.445614240242828, 2.785921972818338, 3.1082307008807053, 3.4109334861524427, 3.6941107526776618, 3.9587645652168075, 4.2063379028206835, 4.438425829293143, 4.6566109047829825, 4.862376496065064, 5.057067385129669, 5.241878011932377, 5.417856013839078, 5.585913510963755, 5.746841651328937, 5.901325855545023, 6.049960386878398, 6.193261585999205, 6.331679525508065, 6.465608070867523, 6.595393454014606, 6.721341519379076, 6.843723817686112, 6.962782718157918, 7.0787356949489535, 7.1917789249032715, 7.302090314380851, 7.409832054716126, 7.515152789645775, 7.618189464031289, 7.719068911368264, 7.817909227737926, 7.9148209717775035, 8.00990822367469, 8.103269530891833, 8.19499876408745, 8.285185903345475, 8.373917772194224, 8.461278734871684, 8.547351370768347, 8.632217138868873, 8.715957044250302, 8.798652318219284, 8.880385123433756, 8.961239295310179, 9.04130113112125, 9.120660238393663, 9.199410454467506, 9.277650849313316, 9.355486823839176, 9.43303131585571, 9.510406125470748, 9.587743370791216, 9.665187083208183, 9.742894948972806, 9.82104019992135, 9.899813650704882, 9.97942587229872, 10.060109481445807, 10.142121512556605, 10.225745822021588, 10.311295454594703, 10.399114877428941, 10.489581959848694, 10.583109546995722, 10.680146444887285, 10.781177606027459, 10.886723282572754, 10.997336903441687, 11.113601438915019, 11.236124047801065, 11.365528864052337, 11.502447875558612, 11.64750997751624, 11.801328440469, 11.964487206298847, 12.137526594981136, 12.320929146888645, 12.515106414757529, 12.720387534856762, 12.937010336198833, 13.165115590563568, 13.404744779806247, 13.655841487881862, 13.918256248067681, 14.191754426375295, 14.476026529321405, 14.77070020625812, 15.075353178516854, 15.389526362828411, 15.712736549151703, 16.044488122912167, 16.3842834680196, 16.731631831946185, 17.086056564230294, 17.447100746814737]}],\n",
       "                        {\"template\": {}, \"title\": {\"text\": \"Average Temperature Rise\"}, \"xaxis\": {\"range\": [\"2001-01-01T00:00:00\", \"3005-01-01T00:00:00\"], \"title\": {\"text\": \"Time in Years\"}}, \"yaxis\": {\"title\": {\"text\": \"Rise in Average Temperature since 1900\"}}},\n",
       "                        {\"responsive\": true}\n",
       "                    ).then(function(){\n",
       "                            \n",
       "var gd = document.getElementById('97cf9626-e2cf-41d3-a5da-3d913e901486');\n",
       "var x = new MutationObserver(function (mutations, observer) {{\n",
       "        var display = window.getComputedStyle(gd).display;\n",
       "        if (!display || display === 'none') {{\n",
       "            console.log([gd, 'removed!']);\n",
       "            Plotly.purge(gd);\n",
       "            observer.disconnect();\n",
       "        }}\n",
       "}});\n",
       "\n",
       "// Listen for the removal of the full notebook cells\n",
       "var notebookContainer = gd.closest('#notebook-container');\n",
       "if (notebookContainer) {{\n",
       "    x.observe(notebookContainer, {childList: true});\n",
       "}}\n",
       "\n",
       "// Listen for the clearing of the current output cell\n",
       "var outputEl = gd.closest('.output');\n",
       "if (outputEl) {{\n",
       "    x.observe(outputEl, {childList: true});\n",
       "}}\n",
       "\n",
       "                        })\n",
       "                };\n",
       "                });\n",
       "            </script>\n",
       "        </div>"
      ]
     },
     "metadata": {},
     "output_type": "display_data"
    }
   ],
   "source": [
    "import plotly.graph_objects as go\n",
    "import datetime\n",
    "\n",
    "def make_datetime(arr,start_year = 2005):\n",
    "    x = []\n",
    "    for i in range(len(arr)):\n",
    "        x.append(datetime.datetime(year=start_year+(10*i),month=1,day=1))\n",
    "    return x\n",
    "\n",
    "\n",
    "\n",
    "fig = go.Figure(\n",
    "    data=go.Scatter(x=make_datetime(model.T_at), y=model.T_at),\n",
    "    layout=go.Layout(\n",
    "        title=\"Average Temperature Rise\",\n",
    "    ))\n",
    "\n",
    "fig.update_xaxes(title_text='Time in Years')\n",
    "fig.update_yaxes(title_text='Rise in Average Temperature since 1900')\n",
    "\n",
    "fig.update_layout(template=draft_template)\n",
    "fig.update_layout(template=\"none\")\n",
    "#fig = go.Figure(data=[go.Scatter(x=make_datetime(model.T_at), y=model.T_at)])\n",
    "# Use datetime objects to set xaxis range\n",
    "fig.update_layout(xaxis_range=[datetime.datetime(2001, 1, 1),make_datetime(model.T_at)[-1]])\n",
    "fig.show()"
   ]
  },
  {
   "cell_type": "code",
   "execution_count": null,
   "metadata": {},
   "outputs": [],
   "source": []
  },
  {
   "cell_type": "code",
   "execution_count": null,
   "metadata": {},
   "outputs": [],
   "source": []
  }
 ],
 "metadata": {
  "kernelspec": {
   "display_name": "Python 3",
   "language": "python",
   "name": "python3"
  },
  "language_info": {
   "codemirror_mode": {
    "name": "ipython",
    "version": 3
   },
   "file_extension": ".py",
   "mimetype": "text/x-python",
   "name": "python",
   "nbconvert_exporter": "python",
   "pygments_lexer": "ipython3",
   "version": "3.6.3"
  }
 },
 "nbformat": 4,
 "nbformat_minor": 2
}
