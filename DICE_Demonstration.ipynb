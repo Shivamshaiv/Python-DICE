{
 "cells": [
  {
   "cell_type": "code",
   "execution_count": 1,
   "metadata": {},
   "outputs": [],
   "source": [
    "from economy_model import Economy\n",
    "import matplotlib.pyplot as plt\n",
    "%matplotlib inline"
   ]
  },
  {
   "cell_type": "code",
   "execution_count": 2,
   "metadata": {},
   "outputs": [],
   "source": [
    "model = Economy()"
   ]
  },
  {
   "cell_type": "code",
   "execution_count": 3,
   "metadata": {},
   "outputs": [],
   "source": [
    "model.loop(20)"
   ]
  },
  {
   "cell_type": "code",
   "execution_count": 4,
   "metadata": {},
   "outputs": [
    {
     "name": "stdout",
     "output_type": "stream",
     "text": [
      "5.901325855545023\n"
     ]
    },
    {
     "data": {
      "image/png": "[encoded data removed]",
      "text/plain": [
       "<matplotlib.figure.Figure at 0x22820fd1198>"
      ]
     },
     "metadata": {},
     "output_type": "display_data"
    }
   ],
   "source": [
    "plt.plot(model.T_at)\n",
    "print(max(model.T_at))\n",
    "plt.show()\n",
    "# 4.398668426917811"
   ]
  },
  {
   "cell_type": "code",
   "execution_count": 5,
   "metadata": {},
   "outputs": [
    {
     "name": "stdout",
     "output_type": "stream",
     "text": [
      "8.862372705776451 1.1 9.96237270577645\n",
      "9.852170467585442 1.1 10.952170467585441\n",
      "10.503448118869994 0.8800000000000001 11.383448118869994\n",
      "10.01678319356601 0.7040000000000002 10.72078319356601\n",
      "9.183236827004206 0.5632000000000001 9.746436827004207\n",
      "8.280250320270088 0.4505600000000001 8.730810320270088\n",
      "7.412942304558478 0.3604480000000001 7.773390304558478\n",
      "6.620813600945196 0.2883584000000001 6.909172000945196\n",
      "5.9161987903871 0.2306867200000001 6.146885510387101\n",
      "5.299649359860841 0.1845493760000001 5.484198735860842\n"
     ]
    }
   ],
   "source": [
    "for t in range(10):\n",
    "    print(model.E_ind[t],model.E_land[t],model.E[t])"
   ]
  },
  {
   "cell_type": "code",
   "execution_count": null,
   "metadata": {},
   "outputs": [],
   "source": []
  }
 ],
 "metadata": {
  "kernelspec": {
   "display_name": "Python 3",
   "language": "python",
   "name": "python3"
  },
  "language_info": {
   "codemirror_mode": {
    "name": "ipython",
    "version": 3
   },
   "file_extension": ".py",
   "mimetype": "text/x-python",
   "name": "python",
   "nbconvert_exporter": "python",
   "pygments_lexer": "ipython3",
   "version": "3.6.3"
  }
 },
 "nbformat": 4,
 "nbformat_minor": 2
}
