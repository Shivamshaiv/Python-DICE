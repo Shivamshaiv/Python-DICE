{
 "cells": [
  {
   "cell_type": "code",
   "execution_count": 10,
   "metadata": {},
   "outputs": [],
   "source": [
    "from economy_model import Economy\n",
    "import matplotlib.pyplot as plt\n",
    "from visualization import plot_temp_change\n",
    "from visualization import plot_attr\n",
    "%matplotlib inline"
   ]
  },
  {
   "cell_type": "code",
   "execution_count": 11,
   "metadata": {},
   "outputs": [],
   "source": [
    "model = Economy()"
   ]
  },
  {
   "cell_type": "code",
   "execution_count": 12,
   "metadata": {},
   "outputs": [],
   "source": [
    "model.loop(10)"
   ]
  },
  {
   "cell_type": "code",
   "execution_count": 13,
   "metadata": {},
   "outputs": [
    {
     "name": "stdout",
     "output_type": "stream",
     "text": [
      "6.480315159133685\n"
     ]
    },
    {
     "data": {
      "image/png": "[encoded data removed]",
      "text/plain": [
       "<matplotlib.figure.Figure at 0x1fd77a28320>"
      ]
     },
     "metadata": {},
     "output_type": "display_data"
    }
   ],
   "source": [
    "plt.plot(model.F)\n",
    "print(max(model.F))\n",
    "plt.show()\n",
    "# 4.398668426917811"
   ]
  },
  {
   "cell_type": "code",
   "execution_count": 14,
   "metadata": {},
   "outputs": [
    {
     "name": "stdout",
     "output_type": "stream",
     "text": [
      "8.862372705776451 1.1 9.96237270577645\n",
      "9.852170467585442 1.1 10.952170467585441\n",
      "10.503448118869994 0.8800000000000001 11.383448118869994\n",
      "10.01678319356601 0.7040000000000002 10.72078319356601\n",
      "9.183236827004206 0.5632000000000001 9.746436827004207\n",
      "8.280250320270088 0.4505600000000001 8.730810320270088\n",
      "7.412942304558478 0.3604480000000001 7.773390304558478\n",
      "6.620813600945196 0.2883584000000001 6.909172000945196\n",
      "5.9161987903871 0.2306867200000001 6.146885510387101\n",
      "5.299649359860841 0.1845493760000001 5.484198735860842\n"
     ]
    }
   ],
   "source": [
    "for t in range(10):\n",
    "    print(model.E_ind[t],model.E_land[t],model.E[t])"
   ]
  },
  {
   "cell_type": "code",
   "execution_count": 15,
   "metadata": {},
   "outputs": [
    {
     "data": {
      "application/vnd.plotly.v1+json": {
       "config": {
        "plotlyServerURL": "https://plot.ly"
       },
       "data": [
        {
         "type": "scatter",
         "x": [
          "2005-01-01T00:00:00",
          "2015-01-01T00:00:00",
          "2025-01-01T00:00:00",
          "2035-01-01T00:00:00",
          "2045-01-01T00:00:00",
          "2055-01-01T00:00:00",
          "2065-01-01T00:00:00",
          "2075-01-01T00:00:00",
          "2085-01-01T00:00:00",
          "2095-01-01T00:00:00",
          "2105-01-01T00:00:00"
         ],
         "y": [
          0.83,
          1.073945495705728,
          1.3859863599779374,
          1.733352883428437,
          2.091766432427599,
          2.445614240242828,
          2.785921972818338,
          3.1082307008807053,
          3.4109334861524427,
          3.6941107526776618,
          3.9587645652168075
         ]
        }
       ],
       "layout": {
        "template": {},
        "title": {
         "text": "Average Temperature Rise"
        },
        "xaxis": {
         "range": [
          "2001-01-01T00:00:00",
          "2105-01-01T00:00:00"
         ],
         "title": {
          "text": "Time in Years"
         }
        },
        "yaxis": {
         "title": {
          "text": "Rise in Average Temperature since 1900"
         }
        }
       }
      },
      "text/html": [
       "<div>\n",
       "        \n",
       "        \n",
       "            <div id=\"ced02189-c242-493a-b8fc-d00ca1966854\" class=\"plotly-graph-div\" style=\"height:525px; width:100%;\"></div>\n",
       "            <script type=\"text/javascript\">\n",
       "                require([\"plotly\"], function(Plotly) {\n",
       "                    window.PLOTLYENV=window.PLOTLYENV || {};\n",
       "                    \n",
       "                if (document.getElementById(\"ced02189-c242-493a-b8fc-d00ca1966854\")) {\n",
       "                    Plotly.newPlot(\n",
       "                        'ced02189-c242-493a-b8fc-d00ca1966854',\n",
       "                        [{\"type\": \"scatter\", \"x\": [\"2005-01-01T00:00:00\", \"2015-01-01T00:00:00\", \"2025-01-01T00:00:00\", \"2035-01-01T00:00:00\", \"2045-01-01T00:00:00\", \"2055-01-01T00:00:00\", \"2065-01-01T00:00:00\", \"2075-01-01T00:00:00\", \"2085-01-01T00:00:00\", \"2095-01-01T00:00:00\", \"2105-01-01T00:00:00\"], \"y\": [0.83, 1.073945495705728, 1.3859863599779374, 1.733352883428437, 2.091766432427599, 2.445614240242828, 2.785921972818338, 3.1082307008807053, 3.4109334861524427, 3.6941107526776618, 3.9587645652168075]}],\n",
       "                        {\"template\": {}, \"title\": {\"text\": \"Average Temperature Rise\"}, \"xaxis\": {\"range\": [\"2001-01-01T00:00:00\", \"2105-01-01T00:00:00\"], \"title\": {\"text\": \"Time in Years\"}}, \"yaxis\": {\"title\": {\"text\": \"Rise in Average Temperature since 1900\"}}},\n",
       "                        {\"responsive\": true}\n",
       "                    ).then(function(){\n",
       "                            \n",
       "var gd = document.getElementById('ced02189-c242-493a-b8fc-d00ca1966854');\n",
       "var x = new MutationObserver(function (mutations, observer) {{\n",
       "        var display = window.getComputedStyle(gd).display;\n",
       "        if (!display || display === 'none') {{\n",
       "            console.log([gd, 'removed!']);\n",
       "            Plotly.purge(gd);\n",
       "            observer.disconnect();\n",
       "        }}\n",
       "}});\n",
       "\n",
       "// Listen for the removal of the full notebook cells\n",
       "var notebookContainer = gd.closest('#notebook-container');\n",
       "if (notebookContainer) {{\n",
       "    x.observe(notebookContainer, {childList: true});\n",
       "}}\n",
       "\n",
       "// Listen for the clearing of the current output cell\n",
       "var outputEl = gd.closest('.output');\n",
       "if (outputEl) {{\n",
       "    x.observe(outputEl, {childList: true});\n",
       "}}\n",
       "\n",
       "                        })\n",
       "                };\n",
       "                });\n",
       "            </script>\n",
       "        </div>"
      ]
     },
     "metadata": {},
     "output_type": "display_data"
    }
   ],
   "source": [
    "import plotly.graph_objects as go\n",
    "import datetime\n",
    "\n",
    "def make_datetime(arr,start_year = 2005):\n",
    "    x = []\n",
    "    for i in range(len(arr)):\n",
    "        x.append(datetime.datetime(year=start_year+(10*i),month=1,day=1))\n",
    "    return x\n",
    "\n",
    "\n",
    "\n",
    "fig = go.Figure(\n",
    "    data=go.Scatter(x=make_datetime(model.T_at), y=model.T_at),\n",
    "    layout=go.Layout(\n",
    "        title=\"Average Temperature Rise\",\n",
    "    ))\n",
    "\n",
    "fig.update_xaxes(title_text='Time in Years')\n",
    "fig.update_yaxes(title_text='Rise in Average Temperature since 1900')\n",
    "\n",
    "fig.update_layout(template=\"none\")\n",
    "#fig = go.Figure(data=[go.Scatter(x=make_datetime(model.T_at), y=model.T_at)])\n",
    "# Use datetime objects to set xaxis range\n",
    "fig.update_layout(xaxis_range=[datetime.datetime(2001, 1, 1),make_datetime(model.T_at)[-1]])\n",
    "fig.show()"
   ]
  },
  {
   "cell_type": "code",
   "execution_count": 16,
   "metadata": {},
   "outputs": [
    {
     "data": {
      "application/vnd.plotly.v1+json": {
       "config": {
        "plotlyServerURL": "https://plot.ly"
       },
       "data": [
        {
         "type": "scatter",
         "x": [
          "2005-01-01T00:00:00",
          "2015-01-01T00:00:00",
          "2025-01-01T00:00:00",
          "2035-01-01T00:00:00",
          "2045-01-01T00:00:00",
          "2055-01-01T00:00:00",
          "2065-01-01T00:00:00",
          "2075-01-01T00:00:00",
          "2085-01-01T00:00:00",
          "2095-01-01T00:00:00",
          "2105-01-01T00:00:00"
         ],
         "y": [
          0.83,
          1.073945495705728,
          1.3859863599779374,
          1.733352883428437,
          2.091766432427599,
          2.445614240242828,
          2.785921972818338,
          3.1082307008807053,
          3.4109334861524427,
          3.6941107526776618,
          3.9587645652168075
         ]
        }
       ],
       "layout": {
        "template": {},
        "title": {
         "text": "Average Temperature Rise"
        },
        "xaxis": {
         "range": [
          "2001-01-01T00:00:00",
          "2105-01-01T00:00:00"
         ],
         "title": {
          "text": "Time in Years"
         }
        },
        "yaxis": {
         "title": {
          "text": "Rise in Average Temperature since 1900"
         }
        }
       }
      },
      "text/html": [
       "<div>\n",
       "        \n",
       "        \n",
       "            <div id=\"7edbf107-7313-48c5-bdb5-f95607b63ac6\" class=\"plotly-graph-div\" style=\"height:525px; width:100%;\"></div>\n",
       "            <script type=\"text/javascript\">\n",
       "                require([\"plotly\"], function(Plotly) {\n",
       "                    window.PLOTLYENV=window.PLOTLYENV || {};\n",
       "                    \n",
       "                if (document.getElementById(\"7edbf107-7313-48c5-bdb5-f95607b63ac6\")) {\n",
       "                    Plotly.newPlot(\n",
       "                        '7edbf107-7313-48c5-bdb5-f95607b63ac6',\n",
       "                        [{\"type\": \"scatter\", \"x\": [\"2005-01-01T00:00:00\", \"2015-01-01T00:00:00\", \"2025-01-01T00:00:00\", \"2035-01-01T00:00:00\", \"2045-01-01T00:00:00\", \"2055-01-01T00:00:00\", \"2065-01-01T00:00:00\", \"2075-01-01T00:00:00\", \"2085-01-01T00:00:00\", \"2095-01-01T00:00:00\", \"2105-01-01T00:00:00\"], \"y\": [0.83, 1.073945495705728, 1.3859863599779374, 1.733352883428437, 2.091766432427599, 2.445614240242828, 2.785921972818338, 3.1082307008807053, 3.4109334861524427, 3.6941107526776618, 3.9587645652168075]}],\n",
       "                        {\"template\": {}, \"title\": {\"text\": \"Average Temperature Rise\"}, \"xaxis\": {\"range\": [\"2001-01-01T00:00:00\", \"2105-01-01T00:00:00\"], \"title\": {\"text\": \"Time in Years\"}}, \"yaxis\": {\"title\": {\"text\": \"Rise in Average Temperature since 1900\"}}},\n",
       "                        {\"responsive\": true}\n",
       "                    ).then(function(){\n",
       "                            \n",
       "var gd = document.getElementById('7edbf107-7313-48c5-bdb5-f95607b63ac6');\n",
       "var x = new MutationObserver(function (mutations, observer) {{\n",
       "        var display = window.getComputedStyle(gd).display;\n",
       "        if (!display || display === 'none') {{\n",
       "            console.log([gd, 'removed!']);\n",
       "            Plotly.purge(gd);\n",
       "            observer.disconnect();\n",
       "        }}\n",
       "}});\n",
       "\n",
       "// Listen for the removal of the full notebook cells\n",
       "var notebookContainer = gd.closest('#notebook-container');\n",
       "if (notebookContainer) {{\n",
       "    x.observe(notebookContainer, {childList: true});\n",
       "}}\n",
       "\n",
       "// Listen for the clearing of the current output cell\n",
       "var outputEl = gd.closest('.output');\n",
       "if (outputEl) {{\n",
       "    x.observe(outputEl, {childList: true});\n",
       "}}\n",
       "\n",
       "                        })\n",
       "                };\n",
       "                });\n",
       "            </script>\n",
       "        </div>"
      ]
     },
     "metadata": {},
     "output_type": "display_data"
    }
   ],
   "source": [
    "plot_temp_change()"
   ]
  },
  {
   "cell_type": "code",
   "execution_count": 18,
   "metadata": {},
   "outputs": [
    {
     "data": {
      "application/vnd.plotly.v1+json": {
       "config": {
        "plotlyServerURL": "https://plot.ly"
       },
       "data": [
        {
         "type": "scatter",
         "x": [
          "2005-01-01T00:00:00",
          "2015-01-01T00:00:00",
          "2025-01-01T00:00:00",
          "2035-01-01T00:00:00",
          "2045-01-01T00:00:00",
          "2055-01-01T00:00:00",
          "2065-01-01T00:00:00",
          "2075-01-01T00:00:00",
          "2085-01-01T00:00:00",
          "2095-01-01T00:00:00",
          "2105-01-01T00:00:00"
         ],
         "y": [
          55.34,
          76.28415538943693,
          97.38388256095396,
          110.718638352951,
          120.55440038883678,
          128.68597528602734,
          136.01903988680886,
          143.1004251041623,
          150.32606772490178,
          158.03482961443564,
          166.55657346537657
         ]
        }
       ],
       "layout": {
        "template": {},
        "title": {
         "text": "Evolution of the factor in the model"
        },
        "xaxis": {
         "range": [
          "2001-01-01T00:00:00",
          "2105-01-01T00:00:00"
         ],
         "title": {
          "text": "Time in Years"
         }
        },
        "yaxis": {
         "title": {
          "text": "Model Parameter"
         }
        }
       }
      },
      "text/html": [
       "<div>\n",
       "        \n",
       "        \n",
       "            <div id=\"b476e9d0-1003-463f-91cd-a847b5a6f69b\" class=\"plotly-graph-div\" style=\"height:525px; width:100%;\"></div>\n",
       "            <script type=\"text/javascript\">\n",
       "                require([\"plotly\"], function(Plotly) {\n",
       "                    window.PLOTLYENV=window.PLOTLYENV || {};\n",
       "                    \n",
       "                if (document.getElementById(\"b476e9d0-1003-463f-91cd-a847b5a6f69b\")) {\n",
       "                    Plotly.newPlot(\n",
       "                        'b476e9d0-1003-463f-91cd-a847b5a6f69b',\n",
       "                        [{\"type\": \"scatter\", \"x\": [\"2005-01-01T00:00:00\", \"2015-01-01T00:00:00\", \"2025-01-01T00:00:00\", \"2035-01-01T00:00:00\", \"2045-01-01T00:00:00\", \"2055-01-01T00:00:00\", \"2065-01-01T00:00:00\", \"2075-01-01T00:00:00\", \"2085-01-01T00:00:00\", \"2095-01-01T00:00:00\", \"2105-01-01T00:00:00\"], \"y\": [55.34, 76.28415538943693, 97.38388256095396, 110.718638352951, 120.55440038883678, 128.68597528602734, 136.01903988680886, 143.1004251041623, 150.32606772490178, 158.03482961443564, 166.55657346537657]}],\n",
       "                        {\"template\": {}, \"title\": {\"text\": \"Evolution of the factor in the model\"}, \"xaxis\": {\"range\": [\"2001-01-01T00:00:00\", \"2105-01-01T00:00:00\"], \"title\": {\"text\": \"Time in Years\"}}, \"yaxis\": {\"title\": {\"text\": \"Model Parameter\"}}},\n",
       "                        {\"responsive\": true}\n",
       "                    ).then(function(){\n",
       "                            \n",
       "var gd = document.getElementById('b476e9d0-1003-463f-91cd-a847b5a6f69b');\n",
       "var x = new MutationObserver(function (mutations, observer) {{\n",
       "        var display = window.getComputedStyle(gd).display;\n",
       "        if (!display || display === 'none') {{\n",
       "            console.log([gd, 'removed!']);\n",
       "            Plotly.purge(gd);\n",
       "            observer.disconnect();\n",
       "        }}\n",
       "}});\n",
       "\n",
       "// Listen for the removal of the full notebook cells\n",
       "var notebookContainer = gd.closest('#notebook-container');\n",
       "if (notebookContainer) {{\n",
       "    x.observe(notebookContainer, {childList: true});\n",
       "}}\n",
       "\n",
       "// Listen for the clearing of the current output cell\n",
       "var outputEl = gd.closest('.output');\n",
       "if (outputEl) {{\n",
       "    x.observe(outputEl, {childList: true});\n",
       "}}\n",
       "\n",
       "                        })\n",
       "                };\n",
       "                });\n",
       "            </script>\n",
       "        </div>"
      ]
     },
     "metadata": {},
     "output_type": "display_data"
    }
   ],
   "source": [
    "plot_attr(model.Q)"
   ]
  },
  {
   "cell_type": "code",
   "execution_count": null,
   "metadata": {},
   "outputs": [],
   "source": []
  }
 ],
 "metadata": {
  "kernelspec": {
   "display_name": "Python 3",
   "language": "python",
   "name": "python3"
  },
  "language_info": {
   "codemirror_mode": {
    "name": "ipython",
    "version": 3
   },
   "file_extension": ".py",
   "mimetype": "text/x-python",
   "name": "python",
   "nbconvert_exporter": "python",
   "pygments_lexer": "ipython3",
   "version": "3.6.3"
  }
 },
 "nbformat": 4,
 "nbformat_minor": 2
}
